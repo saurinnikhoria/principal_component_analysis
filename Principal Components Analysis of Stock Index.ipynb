{
 "cells": [
  {
   "cell_type": "markdown",
   "metadata": {},
   "source": [
    "# Principal Component Analyis of Dax Index "
   ]
  },
  {
   "cell_type": "code",
   "execution_count": 1,
   "metadata": {
    "collapsed": true
   },
   "outputs": [],
   "source": [
    "import numpy as np\n",
    "import pandas as pd\n",
    "from pandas_datareader import data as pdr\n",
    "from sklearn.decomposition import PCA\n",
    "\n",
    "import matplotlib.pyplot as plt\n",
    "%matplotlib inline"
   ]
  },
  {
   "cell_type": "markdown",
   "metadata": {},
   "source": [
    "** Data fetched from Yahoo finance for Dax Index and its 30 stocks **"
   ]
  },
  {
   "cell_type": "code",
   "execution_count": 2,
   "metadata": {
    "collapsed": true
   },
   "outputs": [],
   "source": [
    "symbols = ['ADS.DE', 'ALV.DE', 'BAS.DE', 'BAYN.DE', 'BEI.DE',\n",
    "           'BMW.DE', 'CBK.DE', 'CON.DE', 'DAI.DE', 'DB1.DE',\n",
    "           'DBK.DE', 'DPW.DE', 'DTE.DE', 'EOAN.DE', 'FME.DE',\n",
    "           'FRE.DE', 'HEI.DE', 'HEN3.DE', 'IFX.DE', 'LHA.DE',\n",
    "           'LIN.DE', 'LXS.DE', 'MRK.DE', 'MUV2.DE', 'RWE.DE',\n",
    "           'SAP.DE', 'SDF.DE', 'SIE.DE', 'TKA.DE', 'VOW3.DE',\n",
    "           '^GDAXI']"
   ]
  },
  {
   "cell_type": "code",
   "execution_count": 3,
   "metadata": {},
   "outputs": [
    {
     "name": "stdout",
     "output_type": "stream",
     "text": [
      "Wall time: 1min 11s\n"
     ]
    }
   ],
   "source": [
    "%%time\n",
    "data = pd.DataFrame()\n",
    "for sym in symbols:\n",
    "    # only retrieves data from Jan 2016 on\n",
    "    data[sym] = pdr.get_data_yahoo(sym)['Adj Close']\n",
    "data = data.dropna()"
   ]
  },
  {
   "cell_type": "code",
   "execution_count": 4,
   "metadata": {},
   "outputs": [
    {
     "name": "stdout",
     "output_type": "stream",
     "text": [
      "<class 'pandas.core.frame.DataFrame'>\n",
      "DatetimeIndex: 37 entries, 2019-06-03 to 2019-07-24\n",
      "Data columns (total 31 columns):\n",
      "ADS.DE     37 non-null float64\n",
      "ALV.DE     37 non-null float64\n",
      "BAS.DE     37 non-null float64\n",
      "BAYN.DE    37 non-null float64\n",
      "BEI.DE     37 non-null float64\n",
      "BMW.DE     37 non-null float64\n",
      "CBK.DE     37 non-null float64\n",
      "CON.DE     37 non-null float64\n",
      "DAI.DE     37 non-null float64\n",
      "DB1.DE     37 non-null float64\n",
      "DBK.DE     37 non-null float64\n",
      "DPW.DE     37 non-null float64\n",
      "DTE.DE     37 non-null float64\n",
      "EOAN.DE    37 non-null float64\n",
      "FME.DE     37 non-null float64\n",
      "FRE.DE     37 non-null float64\n",
      "HEI.DE     37 non-null float64\n",
      "HEN3.DE    37 non-null float64\n",
      "IFX.DE     37 non-null float64\n",
      "LHA.DE     37 non-null float64\n",
      "LIN.DE     37 non-null float64\n",
      "LXS.DE     37 non-null float64\n",
      "MRK.DE     37 non-null float64\n",
      "MUV2.DE    37 non-null float64\n",
      "RWE.DE     37 non-null float64\n",
      "SAP.DE     37 non-null float64\n",
      "SDF.DE     37 non-null float64\n",
      "SIE.DE     37 non-null float64\n",
      "TKA.DE     37 non-null float64\n",
      "VOW3.DE    37 non-null float64\n",
      "^GDAXI     37 non-null float64\n",
      "dtypes: float64(31)\n",
      "memory usage: 9.2 KB\n"
     ]
    }
   ],
   "source": [
    "data.info()"
   ]
  },
  {
   "cell_type": "code",
   "execution_count": 5,
   "metadata": {
    "collapsed": true
   },
   "outputs": [],
   "source": [
    "dax = pd.DataFrame(data.pop('^GDAXI'))"
   ]
  },
  {
   "cell_type": "code",
   "execution_count": 7,
   "metadata": {
    "collapsed": true
   },
   "outputs": [],
   "source": [
    "scale_func = lambda x:(x-x.mean())/x.std()"
   ]
  },
  {
   "cell_type": "code",
   "execution_count": 67,
   "metadata": {
    "collapsed": true
   },
   "outputs": [],
   "source": [
    "weighted_ratio = lambda x:x/x.sum()"
   ]
  },
  {
   "cell_type": "markdown",
   "metadata": {},
   "source": [
    "** 2 data will plotted and will be compared with Dax Index **\n",
    "\n",
    "** 30 stocks data will be transformed in one and 5 principal components **"
   ]
  },
  {
   "cell_type": "code",
   "execution_count": null,
   "metadata": {
    "collapsed": true
   },
   "outputs": [],
   "source": [
    "dax_pca_1 = PCA(n_components=1).fit(data.apply(scale_func))"
   ]
  },
  {
   "cell_type": "code",
   "execution_count": null,
   "metadata": {
    "collapsed": true
   },
   "outputs": [],
   "source": [
    "pca_1_data = dax_pca_1.transform(-data)"
   ]
  },
  {
   "cell_type": "code",
   "execution_count": null,
   "metadata": {
    "collapsed": true
   },
   "outputs": [],
   "source": [
    "dax['PCA_1'] = pca_1_data"
   ]
  },
  {
   "cell_type": "code",
   "execution_count": 68,
   "metadata": {
    "collapsed": true
   },
   "outputs": [],
   "source": [
    "dax_pca_5 = PCA(n_components=5).fit(data.apply(scale_func))"
   ]
  },
  {
   "cell_type": "code",
   "execution_count": 69,
   "metadata": {
    "collapsed": true
   },
   "outputs": [],
   "source": [
    "pca_5_data = dax_pca_5.transform(-data)"
   ]
  },
  {
   "cell_type": "markdown",
   "metadata": {},
   "source": [
    "** Eigen values are given by pca.explained variance **\n",
    "\n",
    "** Eigen vectors are given by pca.components **\n",
    "\n",
    "** Weighted eigen values will be mutiplied by transformed pca components to get index replica **"
   ]
  },
  {
   "cell_type": "code",
   "execution_count": 73,
   "metadata": {
    "collapsed": true
   },
   "outputs": [],
   "source": [
    "dax['PCA_5'] = np.dot(weighted_ratio(dax_pca_5.explained_variance_),pca_5_data.T)"
   ]
  },
  {
   "cell_type": "markdown",
   "metadata": {},
   "source": [
    "** As given below, PCA decomposition have helped to fetch the principal components from 30 index to replicate Dax Index **"
   ]
  },
  {
   "cell_type": "code",
   "execution_count": 74,
   "metadata": {},
   "outputs": [
    {
     "data": {
      "text/plain": [
       "<matplotlib.axes._subplots.AxesSubplot at 0x2cf4b33aac8>"
      ]
     },
     "execution_count": 74,
     "metadata": {},
     "output_type": "execute_result"
    },
    {
     "data": {
      "image/png": "[encoded data removed]",
      "text/plain": [
       "<matplotlib.figure.Figure at 0x2cf4b3361d0>"
      ]
     },
     "metadata": {},
     "output_type": "display_data"
    }
   ],
   "source": [
    "dax.apply(scale_func).plot()"
   ]
  },
  {
   "cell_type": "markdown",
   "metadata": {},
   "source": [
    "** Eigen values are fetched to find how many stocks/features can have max variance in the eigen vector direction **\n",
    "\n",
    "** Will study all the 30 stocks as components and find there eigen values and eigen vectors **\n",
    "\n",
    "** Eigen vectors for each stock will show its weighted in Index movement or direction **\n",
    "\n",
    "** Eigen values represent the variance in direction of eigen vectors **"
   ]
  },
  {
   "cell_type": "code",
   "execution_count": 8,
   "metadata": {
    "collapsed": true
   },
   "outputs": [],
   "source": [
    "cov_matrix = PCA(n_components=30).fit(data.apply(scale_func))"
   ]
  },
  {
   "cell_type": "code",
   "execution_count": 10,
   "metadata": {},
   "outputs": [
    {
     "data": {
      "text/plain": [
       "array([1.371e+01, 7.479e+00, 2.655e+00, 2.298e+00, 1.204e+00, 6.570e-01,\n",
       "       4.020e-01, 4.010e-01, 2.720e-01, 2.240e-01, 1.610e-01, 1.360e-01,\n",
       "       1.190e-01, 5.500e-02, 5.000e-02, 3.700e-02, 2.600e-02, 2.400e-02,\n",
       "       1.700e-02, 1.500e-02, 1.500e-02, 1.200e-02, 9.000e-03, 7.000e-03,\n",
       "       4.000e-03, 4.000e-03, 2.000e-03, 2.000e-03, 1.000e-03, 0.000e+00])"
      ]
     },
     "execution_count": 10,
     "metadata": {},
     "output_type": "execute_result"
    }
   ],
   "source": [
    "cov_matrix.explained_variance_.round(3)"
   ]
  },
  {
   "cell_type": "code",
   "execution_count": 19,
   "metadata": {
    "collapsed": true
   },
   "outputs": [],
   "source": [
    "var = np.cumsum(cov_matrix.explained_variance_ratio_.round(3))"
   ]
  },
  {
   "cell_type": "code",
   "execution_count": 20,
   "metadata": {},
   "outputs": [
    {
     "data": {
      "text/plain": [
       "array([0.457, 0.706, 0.795, 0.872, 0.912, 0.934, 0.947, 0.96 , 0.969,\n",
       "       0.976, 0.981, 0.986, 0.99 , 0.992, 0.994, 0.995, 0.996, 0.997,\n",
       "       0.998, 0.999, 0.999, 0.999, 0.999, 0.999, 0.999, 0.999, 0.999,\n",
       "       0.999, 0.999, 0.999])"
      ]
     },
     "execution_count": 20,
     "metadata": {},
     "output_type": "execute_result"
    }
   ],
   "source": [
    "var"
   ]
  },
  {
   "cell_type": "markdown",
   "metadata": {},
   "source": [
    "** As given below in plot, only 6 stocks can explain 95% of variance **"
   ]
  },
  {
   "cell_type": "code",
   "execution_count": 95,
   "metadata": {},
   "outputs": [
    {
     "data": {
      "text/plain": [
       "[<matplotlib.lines.Line2D at 0x2cf4c7a69b0>]"
      ]
     },
     "execution_count": 95,
     "metadata": {},
     "output_type": "execute_result"
    },
    {
     "data": {
      "image/png": "[encoded data removed]",
      "text/plain": [
       "<matplotlib.figure.Figure at 0x2cf4c63bd30>"
      ]
     },
     "metadata": {},
     "output_type": "display_data"
    }
   ],
   "source": [
    "plt.figure(figsize=(10,6))\n",
    "plt.plot(var)\n",
    "plt.title('PCA Analysis')\n",
    "plt.xlabel('No of Stocks')\n",
    "plt.ylabel('%Variance Explained')\n",
    "plt.plot(6,.947,'r*',markersize=10.)"
   ]
  },
  {
   "cell_type": "code",
   "execution_count": 75,
   "metadata": {
    "collapsed": true
   },
   "outputs": [],
   "source": [
    "pca = PCA(n_components=1).fit(data.apply(scale_func))"
   ]
  },
  {
   "cell_type": "code",
   "execution_count": 81,
   "metadata": {},
   "outputs": [
    {
     "name": "stdout",
     "output_type": "stream",
     "text": [
      "[[ 0.26  0.25  0.06  0.24  0.16  0.26  0.14 -0.09 -0.06  0.21  0.25  0.27\n",
      "  -0.13 -0.12  0.16 -0.01 -0.    0.23  0.23 -0.19  0.19  0.26  0.22  0.18\n",
      "   0.12  0.14 -0.   -0.15 -0.05  0.26]]\n"
     ]
    }
   ],
   "source": [
    "print(-pca.components_.round(2))"
   ]
  },
  {
   "cell_type": "markdown",
   "metadata": {},
   "source": [
    "** Heat map created to show each stock weightage for Index based on eigen vector **\n",
    "\n",
    "** As Eigen vector gives the direction, stocks mapped as yellow ( Have vector value more than .2 ) have strong importance in Index movement **\n"
   ]
  },
  {
   "cell_type": "code",
   "execution_count": 84,
   "metadata": {},
   "outputs": [
    {
     "data": {
      "text/plain": [
       "<matplotlib.text.Text at 0x2cf4c385630>"
      ]
     },
     "execution_count": 84,
     "metadata": {},
     "output_type": "execute_result"
    },
    {
     "data": {
      "text/plain": [
       "<matplotlib.figure.Figure at 0x2cf4c412c50>"
      ]
     },
     "metadata": {},
     "output_type": "display_data"
    },
    {
     "data": {
      "image/png": "[encoded data removed]",
      "text/plain": [
       "<matplotlib.figure.Figure at 0x2cf4c412b70>"
      ]
     },
     "metadata": {},
     "output_type": "display_data"
    }
   ],
   "source": [
    "plt.figure(figsize=(12,10))\n",
    "plt.matshow(-pca.components_,cmap='viridis')\n",
    "plt.colorbar()\n",
    "plt.xticks(range(len(data.columns)),data.columns,rotation=90)\n",
    "plt.xlabel('Stocks')\n",
    "plt.ylabel('Principal Component')"
   ]
  },
  {
   "cell_type": "code",
   "execution_count": null,
   "metadata": {
    "collapsed": true
   },
   "outputs": [],
   "source": []
  }
 ],
 "metadata": {
  "kernelspec": {
   "display_name": "Python 3",
   "language": "python",
   "name": "python3"
  },
  "language_info": {
   "codemirror_mode": {
    "name": "ipython",
    "version": 3
   },
   "file_extension": ".py",
   "mimetype": "text/x-python",
   "name": "python",
   "nbconvert_exporter": "python",
   "pygments_lexer": "ipython3",
   "version": "3.5.4"
  }
 },
 "nbformat": 4,
 "nbformat_minor": 2
}
